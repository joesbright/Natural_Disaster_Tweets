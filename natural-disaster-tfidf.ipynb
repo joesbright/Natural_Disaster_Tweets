{
 "cells": [
  {
   "cell_type": "code",
   "execution_count": 1,
   "id": "007e79a7",
   "metadata": {
    "_cell_guid": "b1076dfc-b9ad-4769-8c92-a6c4dae69d19",
    "_uuid": "8f2839f25d086af736a60e9eeb907d3b93b6e0e5",
    "execution": {
     "iopub.execute_input": "2021-10-05T04:59:24.610188Z",
     "iopub.status.busy": "2021-10-05T04:59:24.608958Z",
     "iopub.status.idle": "2021-10-05T04:59:25.692652Z",
     "shell.execute_reply": "2021-10-05T04:59:25.693269Z",
     "shell.execute_reply.started": "2021-10-05T04:58:50.349699Z"
    },
    "papermill": {
     "duration": 1.096738,
     "end_time": "2021-10-05T04:59:25.693581",
     "exception": false,
     "start_time": "2021-10-05T04:59:24.596843",
     "status": "completed"
    },
    "tags": []
   },
   "outputs": [
    {
     "name": "stdout",
     "output_type": "stream",
     "text": [
      "/kaggle/input/nlp-getting-started/sample_submission.csv\n",
      "/kaggle/input/nlp-getting-started/train.csv\n",
      "/kaggle/input/nlp-getting-started/test.csv\n"
     ]
    }
   ],
   "source": [
    "# This Python 3 environment comes with many helpful analytics libraries installed\n",
    "# It is defined by the kaggle/python Docker image: https://github.com/kaggle/docker-python\n",
    "# For example, here's several helpful packages to load\n",
    "\n",
    "import numpy as np # linear algebra\n",
    "import pandas as pd # data processing, CSV file I/O (e.g. pd.read_csv)\n",
    "from sklearn.feature_extraction.text import TfidfVectorizer\n",
    "from sklearn import feature_extraction, linear_model, model_selection, preprocessing\n",
    "\n",
    "\n",
    "# Input data files are available in the read-only \"../input/\" directory\n",
    "# For example, running this (by clicking run or pressing Shift+Enter) will list all files under the input directory\n",
    "\n",
    "import os\n",
    "for dirname, _, filenames in os.walk('/kaggle/input'):\n",
    "    for filename in filenames:\n",
    "        print(os.path.join(dirname, filename))\n",
    "\n",
    "# You can write up to 20GB to the current directory (/kaggle/working/) that gets preserved as output when you create a version using \"Save & Run All\" \n",
    "# You can also write temporary files to /kaggle/temp/, but they won't be saved outside of the current session"
   ]
  },
  {
   "cell_type": "code",
   "execution_count": 2,
   "id": "b7c0bb9e",
   "metadata": {
    "execution": {
     "iopub.execute_input": "2021-10-05T04:59:25.715239Z",
     "iopub.status.busy": "2021-10-05T04:59:25.714574Z",
     "iopub.status.idle": "2021-10-05T04:59:25.813554Z",
     "shell.execute_reply": "2021-10-05T04:59:25.813015Z",
     "shell.execute_reply.started": "2021-10-05T04:58:50.365089Z"
    },
    "papermill": {
     "duration": 0.112033,
     "end_time": "2021-10-05T04:59:25.813712",
     "exception": false,
     "start_time": "2021-10-05T04:59:25.701679",
     "status": "completed"
    },
    "tags": []
   },
   "outputs": [
    {
     "name": "stdout",
     "output_type": "stream",
     "text": [
      "   id keyword location                                               text  \\\n",
      "0   1     NaN      NaN  Our Deeds are the Reason of this #earthquake M...   \n",
      "1   4     NaN      NaN             Forest fire near La Ronge Sask. Canada   \n",
      "2   5     NaN      NaN  All residents asked to 'shelter in place' are ...   \n",
      "3   6     NaN      NaN  13,000 people receive #wildfires evacuation or...   \n",
      "4   7     NaN      NaN  Just got sent this photo from Ruby #Alaska as ...   \n",
      "\n",
      "   target  \n",
      "0       1  \n",
      "1       1  \n",
      "2       1  \n",
      "3       1  \n",
      "4       1  \n",
      "   id keyword location                                               text\n",
      "0   0     NaN      NaN                 Just happened a terrible car crash\n",
      "1   2     NaN      NaN  Heard about #earthquake is different cities, s...\n",
      "2   3     NaN      NaN  there is a forest fire at spot pond, geese are...\n",
      "3   9     NaN      NaN           Apocalypse lighting. #Spokane #wildfires\n",
      "4  11     NaN      NaN      Typhoon Soudelor kills 28 in China and Taiwan\n"
     ]
    }
   ],
   "source": [
    "train_df = pd.read_csv(\"/kaggle/input/nlp-getting-started/train.csv\")\n",
    "test_df = pd.read_csv(\"/kaggle/input/nlp-getting-started/test.csv\")\n",
    "print(train_df.head())\n",
    "print(test_df.head())"
   ]
  },
  {
   "cell_type": "code",
   "execution_count": 3,
   "id": "2bde122c",
   "metadata": {
    "execution": {
     "iopub.execute_input": "2021-10-05T04:59:25.833205Z",
     "iopub.status.busy": "2021-10-05T04:59:25.832507Z",
     "iopub.status.idle": "2021-10-05T04:59:26.171559Z",
     "shell.execute_reply": "2021-10-05T04:59:26.172068Z",
     "shell.execute_reply.started": "2021-10-05T04:58:50.414229Z"
    },
    "papermill": {
     "duration": 0.350673,
     "end_time": "2021-10-05T04:59:26.172240",
     "exception": false,
     "start_time": "2021-10-05T04:59:25.821567",
     "status": "completed"
    },
    "tags": []
   },
   "outputs": [
    {
     "name": "stdout",
     "output_type": "stream",
     "text": [
      "(7613, 21637)\n",
      "(3263, 21637)\n"
     ]
    }
   ],
   "source": [
    "vectorizer = TfidfVectorizer()\n",
    "X_train_tfidf = vectorizer.fit_transform(train_df['text'])\n",
    "X_test_tfidf = vectorizer.transform(test_df['text'])\n",
    "print(X_train_tfidf.shape)\n",
    "print(X_test_tfidf.shape)"
   ]
  },
  {
   "cell_type": "code",
   "execution_count": 4,
   "id": "49274244",
   "metadata": {
    "execution": {
     "iopub.execute_input": "2021-10-05T04:59:26.193924Z",
     "iopub.status.busy": "2021-10-05T04:59:26.193222Z",
     "iopub.status.idle": "2021-10-05T04:59:26.204158Z",
     "shell.execute_reply": "2021-10-05T04:59:26.203610Z",
     "shell.execute_reply.started": "2021-10-05T04:58:50.763243Z"
    },
    "papermill": {
     "duration": 0.023706,
     "end_time": "2021-10-05T04:59:26.204307",
     "exception": false,
     "start_time": "2021-10-05T04:59:26.180601",
     "status": "completed"
    },
    "tags": []
   },
   "outputs": [],
   "source": [
    "from sklearn.naive_bayes import MultinomialNB\n",
    "clf = MultinomialNB().fit(X_train_tfidf, train_df['target'])"
   ]
  },
  {
   "cell_type": "code",
   "execution_count": 5,
   "id": "94a7a74d",
   "metadata": {
    "execution": {
     "iopub.execute_input": "2021-10-05T04:59:26.226607Z",
     "iopub.status.busy": "2021-10-05T04:59:26.225795Z",
     "iopub.status.idle": "2021-10-05T04:59:26.229686Z",
     "shell.execute_reply": "2021-10-05T04:59:26.229162Z",
     "shell.execute_reply.started": "2021-10-05T04:58:50.775755Z"
    },
    "papermill": {
     "duration": 0.017085,
     "end_time": "2021-10-05T04:59:26.229834",
     "exception": false,
     "start_time": "2021-10-05T04:59:26.212749",
     "status": "completed"
    },
    "tags": []
   },
   "outputs": [],
   "source": [
    "predicted = clf.predict(X_test_tfidf)"
   ]
  },
  {
   "cell_type": "code",
   "execution_count": 6,
   "id": "37a86ec8",
   "metadata": {
    "execution": {
     "iopub.execute_input": "2021-10-05T04:59:26.250769Z",
     "iopub.status.busy": "2021-10-05T04:59:26.249921Z",
     "iopub.status.idle": "2021-10-05T04:59:26.254774Z",
     "shell.execute_reply": "2021-10-05T04:59:26.253899Z",
     "shell.execute_reply.started": "2021-10-05T04:58:50.785690Z"
    },
    "papermill": {
     "duration": 0.016977,
     "end_time": "2021-10-05T04:59:26.254970",
     "exception": false,
     "start_time": "2021-10-05T04:59:26.237993",
     "status": "completed"
    },
    "tags": []
   },
   "outputs": [
    {
     "name": "stdout",
     "output_type": "stream",
     "text": [
      "[1 0 1 ... 1 1 1]\n"
     ]
    }
   ],
   "source": [
    "print(predicted)"
   ]
  },
  {
   "cell_type": "code",
   "execution_count": 7,
   "id": "84df9486",
   "metadata": {
    "execution": {
     "iopub.execute_input": "2021-10-05T04:59:26.278748Z",
     "iopub.status.busy": "2021-10-05T04:59:26.278034Z",
     "iopub.status.idle": "2021-10-05T04:59:26.299789Z",
     "shell.execute_reply": "2021-10-05T04:59:26.299193Z",
     "shell.execute_reply.started": "2021-10-05T04:58:50.799414Z"
    },
    "papermill": {
     "duration": 0.03566,
     "end_time": "2021-10-05T04:59:26.299937",
     "exception": false,
     "start_time": "2021-10-05T04:59:26.264277",
     "status": "completed"
    },
    "tags": []
   },
   "outputs": [],
   "source": [
    "sample_submission = pd.read_csv(\"/kaggle/input/nlp-getting-started/sample_submission.csv\")\n",
    "sample_submission[\"target\"] = clf.predict(X_test_tfidf)\n",
    "sample_submission.head()\n",
    "sample_submission.to_csv(\"submission.csv\", index=False)"
   ]
  }
 ],
 "metadata": {
  "kernelspec": {
   "display_name": "Python 3",
   "language": "python",
   "name": "python3"
  },
  "language_info": {
   "codemirror_mode": {
    "name": "ipython",
    "version": 3
   },
   "file_extension": ".py",
   "mimetype": "text/x-python",
   "name": "python",
   "nbconvert_exporter": "python",
   "pygments_lexer": "ipython3",
   "version": "3.7.10"
  },
  "papermill": {
   "default_parameters": {},
   "duration": 10.675788,
   "end_time": "2021-10-05T04:59:26.918502",
   "environment_variables": {},
   "exception": null,
   "input_path": "__notebook__.ipynb",
   "output_path": "__notebook__.ipynb",
   "parameters": {},
   "start_time": "2021-10-05T04:59:16.242714",
   "version": "2.3.3"
  }
 },
 "nbformat": 4,
 "nbformat_minor": 5
}
